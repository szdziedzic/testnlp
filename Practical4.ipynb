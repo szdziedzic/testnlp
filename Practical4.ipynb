{
  "nbformat": 4,
  "nbformat_minor": 0,
  "metadata": {
    "colab": {
      "name": "Practical4.ipynb",
      "provenance": [],
      "collapsed_sections": []
    },
    "kernelspec": {
      "name": "python3",
      "display_name": "Python 3"
    },
    "language_info": {
      "name": "python"
    }
  },
  "cells": [
    {
      "cell_type": "markdown",
      "source": [
        "1. Start doing next steps ONLY after successful local run.\n",
        "2. Change runtime type to GPU (important to check that every time you run the training).\n",
        "3. Upload all files with the same dir structure to the content folder."
      ],
      "metadata": {
        "id": "haMigV2n1UkM"
      }
    },
    {
      "cell_type": "code",
      "execution_count": null,
      "metadata": {
        "id": "WnXQASgUrxqp"
      },
      "outputs": [],
      "source": [
        "from google.colab import files\n",
        "\n",
        "uploaded = files.upload()\n",
        "\n",
        "for fn in uploaded.keys():\n",
        "  print('User uploaded file \"{name}\" with length {length} bytes'.format(\n",
        "      name=fn, length=len(uploaded[fn])))"
      ]
    },
    {
      "cell_type": "code",
      "source": [
        "ls"
      ],
      "metadata": {
        "colab": {
          "base_uri": "https://localhost:8080/"
        },
        "id": "nBOftObGyKzd",
        "outputId": "0580a6ec-0197-43d4-bac4-c7124aefc3ee"
      },
      "execution_count": 5,
      "outputs": [
        {
          "output_type": "stream",
          "name": "stdout",
          "text": [
            "birth_dev.tsv           birth_test_inputs.tsv  \u001b[0m\u001b[01;34msrc\u001b[0m/\n",
            "birth_places_train.tsv  \u001b[01;34mminigptdemo\u001b[0m/           wiki.txt\n"
          ]
        }
      ]
    },
    {
      "cell_type": "markdown",
      "source": [
        "2. d)"
      ],
      "metadata": {
        "id": "Xp75Lxfv01-P"
      }
    },
    {
      "cell_type": "code",
      "source": [
        "!python src/run.py finetune vanilla wiki.txt --writing_params_path vanilla.model.params --finetune_corpus_path birth_places_train.tsv"
      ],
      "metadata": {
        "id": "B7-6vPaCyHsB"
      },
      "execution_count": null,
      "outputs": []
    },
    {
      "cell_type": "code",
      "source": [
        "! python src/run.py evaluate vanilla wiki.txt --reading_params_path vanilla.model.params --eval_corpus_path birth_dev.tsv --outputs_path vanilla.nopretrain.dev.predictions"
      ],
      "metadata": {
        "id": "x9vCI6Mo00eh"
      },
      "execution_count": null,
      "outputs": []
    },
    {
      "cell_type": "markdown",
      "source": [
        "2. f)"
      ],
      "metadata": {
        "id": "jBmUeGcc1CBX"
      }
    },
    {
      "cell_type": "code",
      "source": [
        "! python src/run.py pretrain vanilla wiki.txt --writing_params_path vanilla.pretrain.params"
      ],
      "metadata": {
        "id": "99YEZFGq1BOE"
      },
      "execution_count": null,
      "outputs": []
    },
    {
      "cell_type": "code",
      "source": [
        "! python src/run.py finetune vanilla wiki.txt --reading_params_path vanilla.pretrain.params --writing_params_path vanilla.finetune.params --finetune_corpus_path birth_places_train.tsv"
      ],
      "metadata": {
        "id": "mFKaeOWq1IRb"
      },
      "execution_count": null,
      "outputs": []
    },
    {
      "cell_type": "code",
      "source": [
        "! python src/run.py evaluate vanilla wiki.txt --reading_params_path vanilla.finetune.params --eval_corpus_path birth_dev.tsv --outputs_path vanilla.pretrain.dev.predictions"
      ],
      "metadata": {
        "id": "4sJ9zAAY1IXH"
      },
      "execution_count": null,
      "outputs": []
    }
  ]
}